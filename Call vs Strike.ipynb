{
 "cells": [
  {
   "cell_type": "code",
   "execution_count": 1,
   "metadata": {},
   "outputs": [],
   "source": [
    "import pandas as pd\n",
    "import statistics\n",
    "import numpy as np\n",
    "import matplotlib.pyplot as plt\n",
    "import yaml\n",
    "import math\n",
    "from scipy import stats"
   ]
  },
  {
   "cell_type": "markdown",
   "metadata": {},
   "source": [
    "I want to import from config file:\n",
    "    Equity Name\n",
    "    Equity Price\n",
    "    Volatility\n",
    "    Days to Expiration\n",
    "I will produce a table and a graph of Call Price vs Strike"
   ]
  },
  {
   "cell_type": "code",
   "execution_count": 2,
   "metadata": {},
   "outputs": [],
   "source": [
    "with open('C:/Users/Sidney/Options Study/Options Final/Options.yml', 'r') as file:\n",
    "    config=yaml.safe_load(file)"
   ]
  },
  {
   "cell_type": "code",
   "execution_count": 3,
   "metadata": {},
   "outputs": [],
   "source": [
    "Name=config.get('general')\n",
    "Parameters=config.get('parameters')"
   ]
  },
  {
   "cell_type": "code",
   "execution_count": 4,
   "metadata": {
    "scrolled": false
   },
   "outputs": [
    {
     "name": "stdout",
     "output_type": "stream",
     "text": [
      "{'filename': 'NVDA'}\n",
      "{'Price': 323.2, 'volatility': 0.42, 'Expy': 1}\n"
     ]
    }
   ],
   "source": [
    "print(Name)\n",
    "print(Parameters)\n",
    "#Name is a dictionary with the name of the equity\n",
    "#Parameters is a dictionary with the value of the parameters"
   ]
  },
  {
   "cell_type": "markdown",
   "metadata": {},
   "source": [
    "Now I will make assignments to comply with the notation in the call formula"
   ]
  },
  {
   "cell_type": "code",
   "execution_count": 5,
   "metadata": {},
   "outputs": [
    {
     "name": "stdout",
     "output_type": "stream",
     "text": [
      "NVDA 323.2 0.42 1\n"
     ]
    }
   ],
   "source": [
    "equity=Name.get('filename')\n",
    "F=Parameters.get('Price')\n",
    "sigma=Parameters.get('volatility')\n",
    "T=Parameters.get('Expy')\n",
    "print(equity,F,sigma,T)"
   ]
  },
  {
   "cell_type": "code",
   "execution_count": 6,
   "metadata": {},
   "outputs": [
    {
     "data": {
      "text/plain": [
       "'\\nF is the equity price\\nK is the strike price\\nT is the time to expiration in days\\nsigma is the volatility in percent divided by 100\\n'"
      ]
     },
     "execution_count": 6,
     "metadata": {},
     "output_type": "execute_result"
    }
   ],
   "source": [
    "\"\"\"\n",
    "F is the equity price\n",
    "K is the strike price\n",
    "T is the time to expiration in days\n",
    "sigma is the volatility in percent divided by 100\n",
    "\"\"\" "
   ]
  },
  {
   "cell_type": "code",
   "execution_count": 7,
   "metadata": {},
   "outputs": [],
   "source": [
    "def d1(K):\n",
    "    d1=(np.log(F/K)+0.5*(T/365)*sigma**2)/(sigma*(T/365)**0.5)\n",
    "    return d1"
   ]
  },
  {
   "cell_type": "code",
   "execution_count": 8,
   "metadata": {},
   "outputs": [],
   "source": [
    "def d2(K):\n",
    "    d2=d1(K)-sigma*(T/365)**0.5\n",
    "    return d2"
   ]
  },
  {
   "cell_type": "code",
   "execution_count": 9,
   "metadata": {},
   "outputs": [],
   "source": [
    "def Call(K):\n",
    "    Call=F*(stats.norm.cdf(d1(K)))-K*(stats.norm.cdf(d2(K)))\n",
    "    return Call"
   ]
  },
  {
   "cell_type": "markdown",
   "metadata": {},
   "source": [
    "For the 2D graph, the x label will be Strike and the Y label will be the Call Price"
   ]
  },
  {
   "cell_type": "code",
   "execution_count": 10,
   "metadata": {},
   "outputs": [],
   "source": [
    "x_data=np.arange(F-0.2*F,F+0.2*F,0.1)"
   ]
  },
  {
   "cell_type": "code",
   "execution_count": 11,
   "metadata": {},
   "outputs": [],
   "source": [
    "y_data=Call(x_data)"
   ]
  },
  {
   "cell_type": "code",
   "execution_count": 12,
   "metadata": {
    "scrolled": true
   },
   "outputs": [
    {
     "name": "stdout",
     "output_type": "stream",
     "text": [
      "Call Price vs Strike for NVDA at $323 at 1 Days to Expy\n"
     ]
    }
   ],
   "source": [
    "title='Call Price vs Strike for %s at $%.0f at %.0f Days to Expy' %(equity,F,T)\n",
    "print(title)"
   ]
  },
  {
   "cell_type": "code",
   "execution_count": 13,
   "metadata": {
    "scrolled": true
   },
   "outputs": [
    {
     "data": {
      "image/png": "[encoded data removed]",
      "text/plain": [
       "<Figure size 720x432 with 1 Axes>"
      ]
     },
     "metadata": {
      "needs_background": "light"
     },
     "output_type": "display_data"
    }
   ],
   "source": [
    "fig1=plt.figure(figsize=(10,6))\n",
    "fig1.suptitle(title)\n",
    "axes1=fig1.add_axes([0.1,0.1,0.9,0.9])\n",
    "axes1.set_xlabel('Strike')\n",
    "axes1.set_ylabel('Call Price')\n",
    "axes1.plot(x_data,y_data,'r', lw=2, label='10% Volatility')\n",
    "#axes1.legend(loc=0)\n",
    "axes1.grid(True, color='0.6', dashes=(5,2,1,2))\n",
    "axes1.set_facecolor('#FAEBD7')"
   ]
  },
  {
   "cell_type": "code",
   "execution_count": 14,
   "metadata": {
    "scrolled": true
   },
   "outputs": [
    {
     "name": "stdout",
     "output_type": "stream",
     "text": [
      "Call vs Strike for NVDA at 323 at  1 Days to Expy\n"
     ]
    }
   ],
   "source": [
    "graph_title='Call vs Strike for %s at %.0f at %2.0f Days to Expy' %(equity,F,T)\n",
    "print(graph_title)"
   ]
  },
  {
   "cell_type": "code",
   "execution_count": 15,
   "metadata": {},
   "outputs": [],
   "source": [
    "fig1.savefig(graph_title)"
   ]
  },
  {
   "cell_type": "code",
   "execution_count": null,
   "metadata": {},
   "outputs": [],
   "source": []
  }
 ],
 "metadata": {
  "kernelspec": {
   "display_name": "Python 3",
   "language": "python",
   "name": "python3"
  },
  "language_info": {
   "codemirror_mode": {
    "name": "ipython",
    "version": 3
   },
   "file_extension": ".py",
   "mimetype": "text/x-python",
   "name": "python",
   "nbconvert_exporter": "python",
   "pygments_lexer": "ipython3",
   "version": "3.8.5"
  }
 },
 "nbformat": 4,
 "nbformat_minor": 4
}
